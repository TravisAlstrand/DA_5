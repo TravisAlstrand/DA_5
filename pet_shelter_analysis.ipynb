{
 "cells": [
  {
   "attachments": {},
   "cell_type": "markdown",
   "id": "ba727119",
   "metadata": {},
   "source": [
    "# Data Analysis Project: 5 - Pet Shelter Analysis"
   ]
  },
  {
   "attachments": {},
   "cell_type": "markdown",
   "id": "4dfd9ff2",
   "metadata": {},
   "source": [
    "## Meets Expectations Requirements:"
   ]
  },
  {
   "attachments": {},
   "cell_type": "markdown",
   "id": "5f057a4e",
   "metadata": {},
   "source": [
    "### 1. Is there an area where more pets are found?"
   ]
  },
  {
   "attachments": {},
   "cell_type": "markdown",
   "id": "a110e19f",
   "metadata": {},
   "source": [
    "### 2-a. What is the average number of pets found in a month in the year 2015?"
   ]
  },
  {
   "attachments": {},
   "cell_type": "markdown",
   "id": "17ec3b1d",
   "metadata": {},
   "source": [
    "### 2-b. Are there months where there is a higher number of animals found?"
   ]
  },
  {
   "attachments": {},
   "cell_type": "markdown",
   "id": "bef79e00",
   "metadata": {},
   "source": [
    "### 3. What is the ratio of incoming pets vs. adopted pets?"
   ]
  },
  {
   "attachments": {},
   "cell_type": "markdown",
   "id": "b554f300",
   "metadata": {},
   "source": [
    "### 4. What is the distribution of the types of animals in the shelter?"
   ]
  },
  {
   "attachments": {},
   "cell_type": "markdown",
   "id": "711ffe4e",
   "metadata": {},
   "source": [
    "### 5. What are the adoption rates for specific breeds?"
   ]
  },
  {
   "attachments": {},
   "cell_type": "markdown",
   "id": "50f2ec81",
   "metadata": {},
   "source": [
    "### 6. What are the adoption rates for different colorings?"
   ]
  },
  {
   "attachments": {},
   "cell_type": "markdown",
   "id": "dc26c189",
   "metadata": {},
   "source": [
    "### 7. About how many animals are spayed/neutered each month?"
   ]
  },
  {
   "attachments": {},
   "cell_type": "markdown",
   "id": "61b6f0d8",
   "metadata": {},
   "source": [
    "## Exceeds Expectations Requirements:"
   ]
  },
  {
   "attachments": {},
   "cell_type": "markdown",
   "id": "bf799259",
   "metadata": {},
   "source": [
    "### 1-a. How many animals in the shelter are repeats?"
   ]
  },
  {
   "attachments": {},
   "cell_type": "markdown",
   "id": "34a7b894",
   "metadata": {},
   "source": [
    "### 1-b. Which animal was returned to the shelter the most?"
   ]
  },
  {
   "attachments": {},
   "cell_type": "markdown",
   "id": "a1b8d63c",
   "metadata": {},
   "source": [
    "### 2. What are the adoption rates for the following age groups?\n",
    "- baby: 4 months and less\n",
    "- young: 5 months - 2 years\n",
    "- adult: 3 years - 10 years\n",
    "- senior: 11+"
   ]
  },
  {
   "attachments": {},
   "cell_type": "markdown",
   "id": "2bd6f1e3",
   "metadata": {},
   "source": [
    "### 3. If spay/neuter for a dog costs \\$100 and a spay/neuter for a cat costs \\$50, how much did the shelter spend in 2015 on these procedures?"
   ]
  }
 ],
 "metadata": {
  "kernelspec": {
   "display_name": "Python 3",
   "language": "python",
   "name": "python3"
  },
  "language_info": {
   "name": "python",
   "version": "3.11.0"
  }
 },
 "nbformat": 4,
 "nbformat_minor": 5
}
