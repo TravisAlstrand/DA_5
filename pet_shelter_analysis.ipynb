{
 "cells": [
  {
   "attachments": {},
   "cell_type": "markdown",
   "id": "ba727119",
   "metadata": {},
   "source": [
    "# Data Analysis Project: 5 - Pet Shelter Analysis"
   ]
  },
  {
   "cell_type": "code",
   "execution_count": 1,
   "id": "489b8363",
   "metadata": {},
   "outputs": [],
   "source": [
    "import pandas as pd\n",
    "intakes_outcomes = pd.read_csv('./archive/aac_intakes_outcomes.csv')\n",
    "intakes = pd.read_csv('./archive/aac_intakes.csv')\n",
    "outcomes = pd.read_csv('./archive/aac_outcomes.csv')"
   ]
  },
  {
   "cell_type": "code",
   "execution_count": 2,
   "id": "cbe3c870",
   "metadata": {},
   "outputs": [
    {
     "data": {
      "text/html": [
       "<div>\n",
       "<style scoped>\n",
       "    .dataframe tbody tr th:only-of-type {\n",
       "        vertical-align: middle;\n",
       "    }\n",
       "\n",
       "    .dataframe tbody tr th {\n",
       "        vertical-align: top;\n",
       "    }\n",
       "\n",
       "    .dataframe thead th {\n",
       "        text-align: right;\n",
       "    }\n",
       "</style>\n",
       "<table border=\"1\" class=\"dataframe\">\n",
       "  <thead>\n",
       "    <tr style=\"text-align: right;\">\n",
       "      <th></th>\n",
       "      <th>age_upon_outcome</th>\n",
       "      <th>animal_id_outcome</th>\n",
       "      <th>date_of_birth</th>\n",
       "      <th>outcome_subtype</th>\n",
       "      <th>outcome_type</th>\n",
       "      <th>sex_upon_outcome</th>\n",
       "      <th>age_upon_outcome_(days)</th>\n",
       "      <th>age_upon_outcome_(years)</th>\n",
       "      <th>age_upon_outcome_age_group</th>\n",
       "      <th>outcome_datetime</th>\n",
       "      <th>...</th>\n",
       "      <th>age_upon_intake_age_group</th>\n",
       "      <th>intake_datetime</th>\n",
       "      <th>intake_month</th>\n",
       "      <th>intake_year</th>\n",
       "      <th>intake_monthyear</th>\n",
       "      <th>intake_weekday</th>\n",
       "      <th>intake_hour</th>\n",
       "      <th>intake_number</th>\n",
       "      <th>time_in_shelter</th>\n",
       "      <th>time_in_shelter_days</th>\n",
       "    </tr>\n",
       "  </thead>\n",
       "  <tbody>\n",
       "    <tr>\n",
       "      <th>0</th>\n",
       "      <td>10 years</td>\n",
       "      <td>A006100</td>\n",
       "      <td>2007-07-09 00:00:00</td>\n",
       "      <td>NaN</td>\n",
       "      <td>Return to Owner</td>\n",
       "      <td>Neutered Male</td>\n",
       "      <td>3650</td>\n",
       "      <td>10.0</td>\n",
       "      <td>(7.5, 10.0]</td>\n",
       "      <td>2017-12-07 14:07:00</td>\n",
       "      <td>...</td>\n",
       "      <td>(7.5, 10.0]</td>\n",
       "      <td>2017-12-07 00:00:00</td>\n",
       "      <td>12</td>\n",
       "      <td>2017</td>\n",
       "      <td>2017-12</td>\n",
       "      <td>Thursday</td>\n",
       "      <td>14</td>\n",
       "      <td>1.0</td>\n",
       "      <td>0 days 14:07:00.000000000</td>\n",
       "      <td>0.588194</td>\n",
       "    </tr>\n",
       "  </tbody>\n",
       "</table>\n",
       "<p>1 rows × 41 columns</p>\n",
       "</div>"
      ],
      "text/plain": [
       "  age_upon_outcome animal_id_outcome        date_of_birth outcome_subtype   \n",
       "0         10 years           A006100  2007-07-09 00:00:00             NaN  \\\n",
       "\n",
       "      outcome_type sex_upon_outcome  age_upon_outcome_(days)   \n",
       "0  Return to Owner    Neutered Male                     3650  \\\n",
       "\n",
       "   age_upon_outcome_(years) age_upon_outcome_age_group     outcome_datetime   \n",
       "0                      10.0                (7.5, 10.0]  2017-12-07 14:07:00  \\\n",
       "\n",
       "   ...  age_upon_intake_age_group      intake_datetime intake_month   \n",
       "0  ...                (7.5, 10.0]  2017-12-07 00:00:00           12  \\\n",
       "\n",
       "  intake_year  intake_monthyear  intake_weekday  intake_hour  intake_number   \n",
       "0        2017           2017-12        Thursday           14            1.0  \\\n",
       "\n",
       "             time_in_shelter time_in_shelter_days  \n",
       "0  0 days 14:07:00.000000000             0.588194  \n",
       "\n",
       "[1 rows x 41 columns]"
      ]
     },
     "execution_count": 2,
     "metadata": {},
     "output_type": "execute_result"
    }
   ],
   "source": [
    "intakes_outcomes.head(1)"
   ]
  },
  {
   "cell_type": "code",
   "execution_count": 3,
   "id": "d39ac22e",
   "metadata": {},
   "outputs": [
    {
     "data": {
      "text/html": [
       "<div>\n",
       "<style scoped>\n",
       "    .dataframe tbody tr th:only-of-type {\n",
       "        vertical-align: middle;\n",
       "    }\n",
       "\n",
       "    .dataframe tbody tr th {\n",
       "        vertical-align: top;\n",
       "    }\n",
       "\n",
       "    .dataframe thead th {\n",
       "        text-align: right;\n",
       "    }\n",
       "</style>\n",
       "<table border=\"1\" class=\"dataframe\">\n",
       "  <thead>\n",
       "    <tr style=\"text-align: right;\">\n",
       "      <th></th>\n",
       "      <th>age_upon_intake</th>\n",
       "      <th>animal_id</th>\n",
       "      <th>animal_type</th>\n",
       "      <th>breed</th>\n",
       "      <th>color</th>\n",
       "      <th>datetime</th>\n",
       "      <th>datetime2</th>\n",
       "      <th>found_location</th>\n",
       "      <th>intake_condition</th>\n",
       "      <th>intake_type</th>\n",
       "      <th>name</th>\n",
       "      <th>sex_upon_intake</th>\n",
       "    </tr>\n",
       "  </thead>\n",
       "  <tbody>\n",
       "    <tr>\n",
       "      <th>0</th>\n",
       "      <td>8 years</td>\n",
       "      <td>A706918</td>\n",
       "      <td>Dog</td>\n",
       "      <td>English Springer Spaniel</td>\n",
       "      <td>White/Liver</td>\n",
       "      <td>2015-07-05T12:59:00.000</td>\n",
       "      <td>2015-07-05T12:59:00.000</td>\n",
       "      <td>9409 Bluegrass Dr in Austin (TX)</td>\n",
       "      <td>Normal</td>\n",
       "      <td>Stray</td>\n",
       "      <td>Belle</td>\n",
       "      <td>Spayed Female</td>\n",
       "    </tr>\n",
       "  </tbody>\n",
       "</table>\n",
       "</div>"
      ],
      "text/plain": [
       "  age_upon_intake animal_id animal_type                     breed   \n",
       "0         8 years   A706918         Dog  English Springer Spaniel  \\\n",
       "\n",
       "         color                 datetime                datetime2   \n",
       "0  White/Liver  2015-07-05T12:59:00.000  2015-07-05T12:59:00.000  \\\n",
       "\n",
       "                     found_location intake_condition intake_type   name   \n",
       "0  9409 Bluegrass Dr in Austin (TX)           Normal       Stray  Belle  \\\n",
       "\n",
       "  sex_upon_intake  \n",
       "0   Spayed Female  "
      ]
     },
     "execution_count": 3,
     "metadata": {},
     "output_type": "execute_result"
    }
   ],
   "source": [
    "intakes.head(1)"
   ]
  },
  {
   "cell_type": "code",
   "execution_count": 4,
   "id": "291138d6",
   "metadata": {},
   "outputs": [
    {
     "data": {
      "text/html": [
       "<div>\n",
       "<style scoped>\n",
       "    .dataframe tbody tr th:only-of-type {\n",
       "        vertical-align: middle;\n",
       "    }\n",
       "\n",
       "    .dataframe tbody tr th {\n",
       "        vertical-align: top;\n",
       "    }\n",
       "\n",
       "    .dataframe thead th {\n",
       "        text-align: right;\n",
       "    }\n",
       "</style>\n",
       "<table border=\"1\" class=\"dataframe\">\n",
       "  <thead>\n",
       "    <tr style=\"text-align: right;\">\n",
       "      <th></th>\n",
       "      <th>age_upon_outcome</th>\n",
       "      <th>animal_id</th>\n",
       "      <th>animal_type</th>\n",
       "      <th>breed</th>\n",
       "      <th>color</th>\n",
       "      <th>date_of_birth</th>\n",
       "      <th>datetime</th>\n",
       "      <th>monthyear</th>\n",
       "      <th>name</th>\n",
       "      <th>outcome_subtype</th>\n",
       "      <th>outcome_type</th>\n",
       "      <th>sex_upon_outcome</th>\n",
       "    </tr>\n",
       "  </thead>\n",
       "  <tbody>\n",
       "    <tr>\n",
       "      <th>0</th>\n",
       "      <td>2 weeks</td>\n",
       "      <td>A684346</td>\n",
       "      <td>Cat</td>\n",
       "      <td>Domestic Shorthair Mix</td>\n",
       "      <td>Orange Tabby</td>\n",
       "      <td>2014-07-07T00:00:00</td>\n",
       "      <td>2014-07-22T16:04:00</td>\n",
       "      <td>2014-07-22T16:04:00</td>\n",
       "      <td>NaN</td>\n",
       "      <td>Partner</td>\n",
       "      <td>Transfer</td>\n",
       "      <td>Intact Male</td>\n",
       "    </tr>\n",
       "    <tr>\n",
       "      <th>1</th>\n",
       "      <td>1 year</td>\n",
       "      <td>A666430</td>\n",
       "      <td>Dog</td>\n",
       "      <td>Beagle Mix</td>\n",
       "      <td>White/Brown</td>\n",
       "      <td>2012-11-06T00:00:00</td>\n",
       "      <td>2013-11-07T11:47:00</td>\n",
       "      <td>2013-11-07T11:47:00</td>\n",
       "      <td>Lucy</td>\n",
       "      <td>Partner</td>\n",
       "      <td>Transfer</td>\n",
       "      <td>Spayed Female</td>\n",
       "    </tr>\n",
       "    <tr>\n",
       "      <th>2</th>\n",
       "      <td>1 year</td>\n",
       "      <td>A675708</td>\n",
       "      <td>Dog</td>\n",
       "      <td>Pit Bull</td>\n",
       "      <td>Blue/White</td>\n",
       "      <td>2013-03-31T00:00:00</td>\n",
       "      <td>2014-06-03T14:20:00</td>\n",
       "      <td>2014-06-03T14:20:00</td>\n",
       "      <td>*Johnny</td>\n",
       "      <td>NaN</td>\n",
       "      <td>Adoption</td>\n",
       "      <td>Neutered Male</td>\n",
       "    </tr>\n",
       "    <tr>\n",
       "      <th>3</th>\n",
       "      <td>9 years</td>\n",
       "      <td>A680386</td>\n",
       "      <td>Dog</td>\n",
       "      <td>Miniature Schnauzer Mix</td>\n",
       "      <td>White</td>\n",
       "      <td>2005-06-02T00:00:00</td>\n",
       "      <td>2014-06-15T15:50:00</td>\n",
       "      <td>2014-06-15T15:50:00</td>\n",
       "      <td>Monday</td>\n",
       "      <td>Partner</td>\n",
       "      <td>Transfer</td>\n",
       "      <td>Neutered Male</td>\n",
       "    </tr>\n",
       "    <tr>\n",
       "      <th>4</th>\n",
       "      <td>5 months</td>\n",
       "      <td>A683115</td>\n",
       "      <td>Other</td>\n",
       "      <td>Bat Mix</td>\n",
       "      <td>Brown</td>\n",
       "      <td>2014-01-07T00:00:00</td>\n",
       "      <td>2014-07-07T14:04:00</td>\n",
       "      <td>2014-07-07T14:04:00</td>\n",
       "      <td>NaN</td>\n",
       "      <td>Rabies Risk</td>\n",
       "      <td>Euthanasia</td>\n",
       "      <td>Unknown</td>\n",
       "    </tr>\n",
       "  </tbody>\n",
       "</table>\n",
       "</div>"
      ],
      "text/plain": [
       "  age_upon_outcome animal_id animal_type                    breed   \n",
       "0          2 weeks   A684346         Cat   Domestic Shorthair Mix  \\\n",
       "1           1 year   A666430         Dog               Beagle Mix   \n",
       "2           1 year   A675708         Dog                 Pit Bull   \n",
       "3          9 years   A680386         Dog  Miniature Schnauzer Mix   \n",
       "4         5 months   A683115       Other                  Bat Mix   \n",
       "\n",
       "          color        date_of_birth             datetime   \n",
       "0  Orange Tabby  2014-07-07T00:00:00  2014-07-22T16:04:00  \\\n",
       "1   White/Brown  2012-11-06T00:00:00  2013-11-07T11:47:00   \n",
       "2    Blue/White  2013-03-31T00:00:00  2014-06-03T14:20:00   \n",
       "3         White  2005-06-02T00:00:00  2014-06-15T15:50:00   \n",
       "4         Brown  2014-01-07T00:00:00  2014-07-07T14:04:00   \n",
       "\n",
       "             monthyear     name outcome_subtype outcome_type sex_upon_outcome  \n",
       "0  2014-07-22T16:04:00      NaN         Partner     Transfer      Intact Male  \n",
       "1  2013-11-07T11:47:00     Lucy         Partner     Transfer    Spayed Female  \n",
       "2  2014-06-03T14:20:00  *Johnny             NaN     Adoption    Neutered Male  \n",
       "3  2014-06-15T15:50:00   Monday         Partner     Transfer    Neutered Male  \n",
       "4  2014-07-07T14:04:00      NaN     Rabies Risk   Euthanasia          Unknown  "
      ]
     },
     "execution_count": 4,
     "metadata": {},
     "output_type": "execute_result"
    }
   ],
   "source": [
    "outcomes.head()"
   ]
  },
  {
   "attachments": {},
   "cell_type": "markdown",
   "id": "a57b7ce8",
   "metadata": {},
   "source": [
    "___"
   ]
  },
  {
   "attachments": {},
   "cell_type": "markdown",
   "id": "4dfd9ff2",
   "metadata": {},
   "source": [
    "## Meets Expectations Requirements:"
   ]
  },
  {
   "attachments": {},
   "cell_type": "markdown",
   "id": "5f057a4e",
   "metadata": {},
   "source": [
    "### 1. Is there an area where more pets are found?\n",
    "- Find the top 5 places where animals are found so the shelter can coordinate with local volunteers and animal control to monitor these areas.\n",
    "#### Answer: \n",
    "    - 1: Travis :)\n",
    "    - 2: 7201 Levander Loop in Austin\n",
    "    - 3: Del Valle\n",
    "    - 4: Pflugerville\n",
    "    - 5: Manor\n",
    "\n",
    "#### Solution:\n",
    "To gather this data I utilized the `value_counts` method on the `'found_location'` series and sliced the first two entries away because they were simply `Austin (TX)`, which is where the shelter is located, and `Outside Jurisdiction` where I assume local volunteers and animal control would not be allowed to monitor."
   ]
  },
  {
   "cell_type": "code",
   "execution_count": 5,
   "id": "5c9adcfc",
   "metadata": {},
   "outputs": [
    {
     "data": {
      "text/plain": [
       "found_location\n",
       "Travis (TX)                          921\n",
       "7201 Levander Loop in Austin (TX)    517\n",
       "Del Valle (TX)                       411\n",
       "Pflugerville (TX)                    372\n",
       "Manor (TX)                           280\n",
       "Name: count, dtype: int64"
      ]
     },
     "execution_count": 5,
     "metadata": {},
     "output_type": "execute_result"
    }
   ],
   "source": [
    "# count how many times the same values repeat in this \"found_location\" series\n",
    "locations = intakes['found_location'].value_counts()[2:7]\n",
    "locations"
   ]
  },
  {
   "attachments": {},
   "cell_type": "markdown",
   "id": "b949e1ba",
   "metadata": {},
   "source": [
    "___"
   ]
  },
  {
   "attachments": {},
   "cell_type": "markdown",
   "id": "a110e19f",
   "metadata": {},
   "source": [
    "### 2-a. What is the average number of pets found in a month in the year 2015?\n",
    "### 2-b. Are there months where there is a higher number of animals found?\n",
    "- Knowing the number of pets the shelter might see in a month can help them gather enough resources and donations to care for the animals they receive.\n",
    "#### 2-a Answer:\n",
    "  - 1558\n",
    "\n",
    "#### 2-a Solution:\n",
    "First I had to separate all of the entries from the year 2015, then I gathered the amounts of entries per month of that new collection. With that I was able to find the avg of all months that year and round it to an even number.\n",
    "\n",
    "#### 2-b Answer:\n",
    "  - May\n",
    "  - June\n",
    "  - July\n",
    "  - August\n",
    "  - September\n",
    "  - October\n",
    "\n",
    "#### 2-b Solution:\n",
    "For this I simply had to take my previous monthly totals for 2015 and see which months had a higher intake than the yearly average."
   ]
  },
  {
   "cell_type": "code",
   "execution_count": 6,
   "id": "00e1758b",
   "metadata": {},
   "outputs": [
    {
     "data": {
      "text/plain": [
       "1558"
      ]
     },
     "execution_count": 6,
     "metadata": {},
     "output_type": "execute_result"
    }
   ],
   "source": [
    "# get all intakes in 2015\n",
    "twenty_fifteen = intakes_outcomes[(intakes_outcomes['intake_year'] == 2015)]\n",
    "# get counts for each month, get avg and round it\n",
    "month_totals = twenty_fifteen['intake_month'].value_counts()\n",
    "monthly_avg = round(month_totals.mean())\n",
    "monthly_avg"
   ]
  },
  {
   "cell_type": "code",
   "execution_count": 7,
   "id": "f273ca64",
   "metadata": {},
   "outputs": [
    {
     "data": {
      "text/plain": [
       "intake_month\n",
       "6     2188\n",
       "5     2092\n",
       "10    1738\n",
       "8     1717\n",
       "7     1634\n",
       "9     1590\n",
       "Name: count, dtype: int64"
      ]
     },
     "execution_count": 7,
     "metadata": {},
     "output_type": "execute_result"
    }
   ],
   "source": [
    "high_months = month_totals[month_totals.values > monthly_avg]\n",
    "high_months"
   ]
  },
  {
   "attachments": {},
   "cell_type": "markdown",
   "id": "dba927f1",
   "metadata": {},
   "source": [
    "___"
   ]
  },
  {
   "attachments": {},
   "cell_type": "markdown",
   "id": "bef79e00",
   "metadata": {},
   "source": [
    "### 3. What is the ratio of incoming pets vs. adopted pets?\n",
    "- This key metric helps the shelter know how they are doing.\n",
    "\n",
    "#### Answer:\n",
    "- With every 2.34 intakes, 1 pet is adopted.\n",
    "\n",
    "#### Solution:\n",
    "For this I had to find the `size` of the intakes dataframe. Then I had to create a new dataframe from the outcomes where the `outcome_type` was \"Adoption\" and get the `size` of that. Dividing the total intakes by this adoption dataframe size, and rounding the number a bit for easier readability, I got `2.34`."
   ]
  },
  {
   "cell_type": "code",
   "execution_count": 8,
   "id": "2986d03c",
   "metadata": {},
   "outputs": [
    {
     "data": {
      "text/plain": [
       "2.34"
      ]
     },
     "execution_count": 8,
     "metadata": {},
     "output_type": "execute_result"
    }
   ],
   "source": [
    "intakes_total = intakes.size\n",
    "adoptions_total = outcomes[outcomes['outcome_type'] == 'Adoption'].size\n",
    "ratio = round(intakes_total / adoptions_total, 2)\n",
    "ratio"
   ]
  },
  {
   "attachments": {},
   "cell_type": "markdown",
   "id": "4ed3651b",
   "metadata": {},
   "source": [
    "___"
   ]
  },
  {
   "attachments": {},
   "cell_type": "markdown",
   "id": "b554f300",
   "metadata": {},
   "source": [
    "### 4. What is the distribution of the types of animals in the shelter?\n",
    "- Find the count of each type of animal in the shelter.\n",
    "\n",
    "#### Answer:\n",
    "- Dog: 280\n",
    "- Cat: 109\n",
    "- Livestock: 9\n",
    "- Other: 8\n",
    "- Bird: 3\n",
    "\n",
    "#### Solution:\n",
    "To solve this I first had to find out which animals are still currently in the shelter. So I `merge`d the `intakes` and `intakes_outcomes` dataframes with an inner join on their `id`s. Then I had to create a new dataframe which removes all duplicates from that merged dataframe and the `intakes` dataframe. Then I had to count how many of each value were in the `animal_type` column."
   ]
  },
  {
   "cell_type": "code",
   "execution_count": 9,
   "id": "34b68c70",
   "metadata": {},
   "outputs": [
    {
     "data": {
      "text/plain": [
       "animal_type\n",
       "Dog          280\n",
       "Cat          109\n",
       "Livestock      9\n",
       "Other          8\n",
       "Bird           3\n",
       "Name: count, dtype: int64"
      ]
     },
     "execution_count": 9,
     "metadata": {},
     "output_type": "execute_result"
    }
   ],
   "source": [
    "merged = pd.merge(intakes, intakes_outcomes, left_on='animal_id', right_on='animal_id_outcome', how='inner')\n",
    "still_in_shelter = intakes[~intakes['animal_id'].isin(merged['animal_id'])]\n",
    "still_in_shelter['animal_type'].value_counts()\n"
   ]
  },
  {
   "attachments": {},
   "cell_type": "markdown",
   "id": "f9cfd0b5",
   "metadata": {},
   "source": [
    "___"
   ]
  },
  {
   "attachments": {},
   "cell_type": "markdown",
   "id": "711ffe4e",
   "metadata": {},
   "source": [
    "### 5. What are the adoption rates for specific breeds?\n",
    "- Find the top 5 dog breeds in the shelter (based on count) and then find the adoption percentage of each breed.\n",
    "\n",
    "#### Answer:\n",
    "\n",
    "#### Solution:\n",
    "First I had to find the top 5 dog breeds still in the shelter so I used my previous `still_in_shelter` dataframe."
   ]
  },
  {
   "cell_type": "code",
   "execution_count": 23,
   "id": "c246282f",
   "metadata": {},
   "outputs": [
    {
     "data": {
      "text/plain": [
       "breed\n",
       "Pit Bull Mix                     86\n",
       "Labrador Retriever Mix           44\n",
       "Chihuahua Shorthair Mix          21\n",
       "American Pit Bull Terrier Mix    13\n",
       "German Shepherd Mix              10\n",
       "Name: count, dtype: int64"
      ]
     },
     "execution_count": 23,
     "metadata": {},
     "output_type": "execute_result"
    }
   ],
   "source": [
    "top_five_dogs = still_in_shelter[still_in_shelter['animal_type'] == 'Dog'].breed.value_counts().head()\n",
    "top_five_dogs"
   ]
  },
  {
   "attachments": {},
   "cell_type": "markdown",
   "id": "50f2ec81",
   "metadata": {},
   "source": [
    "### 6. What are the adoption rates for different colorings?\n",
    "- Find the top 5 colorings in the shelter (based on count) and then find the adoption percentage of each color."
   ]
  },
  {
   "attachments": {},
   "cell_type": "markdown",
   "id": "dc26c189",
   "metadata": {},
   "source": [
    "### 7. About how many animals are spayed/neutered each month?\n",
    "- This will help the shelter allocate resources and staff. Assume that all intact males and females will be spayed/neutered."
   ]
  },
  {
   "attachments": {},
   "cell_type": "markdown",
   "id": "61b6f0d8",
   "metadata": {},
   "source": [
    "## Exceeds Expectations Requirements:"
   ]
  },
  {
   "attachments": {},
   "cell_type": "markdown",
   "id": "bf799259",
   "metadata": {},
   "source": [
    "### 1-a. How many animals in the shelter are repeats?"
   ]
  },
  {
   "attachments": {},
   "cell_type": "markdown",
   "id": "34a7b894",
   "metadata": {},
   "source": [
    "### 1-b. Which animal was returned to the shelter the most?"
   ]
  },
  {
   "attachments": {},
   "cell_type": "markdown",
   "id": "a1b8d63c",
   "metadata": {},
   "source": [
    "### 2. What are the adoption rates for the following age groups?\n",
    "- baby: 4 months and less\n",
    "- young: 5 months - 2 years\n",
    "- adult: 3 years - 10 years\n",
    "- senior: 11+"
   ]
  },
  {
   "attachments": {},
   "cell_type": "markdown",
   "id": "2bd6f1e3",
   "metadata": {},
   "source": [
    "### 3. If spay/neuter for a dog costs $100 and a spay/neuter for a cat costs $50, how much did the shelter spend in 2015 on these procedures?"
   ]
  }
 ],
 "metadata": {
  "kernelspec": {
   "display_name": "Python 3",
   "language": "python",
   "name": "python3"
  },
  "language_info": {
   "codemirror_mode": {
    "name": "ipython",
    "version": 3
   },
   "file_extension": ".py",
   "mimetype": "text/x-python",
   "name": "python",
   "nbconvert_exporter": "python",
   "pygments_lexer": "ipython3",
   "version": "3.11.0"
  }
 },
 "nbformat": 4,
 "nbformat_minor": 5
}
